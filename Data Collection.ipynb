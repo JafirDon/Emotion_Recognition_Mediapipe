{
 "cells": [
  {
   "cell_type": "code",
   "execution_count": 1,
   "id": "cb91438c",
   "metadata": {},
   "outputs": [],
   "source": [
    "import cv2\n",
    "import mediapipe as mp"
   ]
  },
  {
   "cell_type": "code",
   "execution_count": 2,
   "id": "8c146f49",
   "metadata": {},
   "outputs": [],
   "source": [
    "mp_drawing = mp.solutions.drawing_utils\n",
    "mp_holistic = mp.solutions.holistic"
   ]
  },
  {
   "cell_type": "code",
   "execution_count": 11,
   "id": "6e40692e",
   "metadata": {},
   "outputs": [],
   "source": [
    "cap = cv2.VideoCapture(1)\n",
    "with mp_holistic.Holistic(min_detection_confidence=0.5, min_tracking_confidence=0.5) as holistic:\n",
    "    \n",
    "    while cap.isOpened():\n",
    "        ret, frame = cap.read()\n",
    "\n",
    "        image = cv2.cvtColor(frame, cv2.COLOR_BGR2RGB)\n",
    "        image.flags.writeable = False       \n",
    "        \n",
    "        results = holistic.process(image)\n",
    "        image.flags.writeable = True   \n",
    "        image = cv2.cvtColor(image, cv2.COLOR_RGB2BGR)\n",
    "        \n",
    "        mp_drawing.draw_landmarks(image, results.face_landmarks, mp_holistic.FACEMESH_TESSELATION, \n",
    "                                 mp_drawing.DrawingSpec(color=(80,110,10), thickness=1, circle_radius=1),\n",
    "                                 mp_drawing.DrawingSpec(color=(80,256,121), thickness=1, circle_radius=1))\n",
    "        \n",
    "        cv2.imshow('Raw Webcam Feed', image)\n",
    "\n",
    "        if cv2.waitKey(10) & 0xFF == ord('q'):\n",
    "            break\n",
    "\n",
    "cap.release()\n",
    "cv2.destroyAllWindows()"
   ]
  },
  {
   "cell_type": "code",
   "execution_count": 12,
   "id": "f8bb9c57",
   "metadata": {},
   "outputs": [],
   "source": [
    "import os\n",
    "import csv\n",
    "import numpy as np"
   ]
  },
  {
   "cell_type": "code",
   "execution_count": 13,
   "id": "4ee78abf",
   "metadata": {},
   "outputs": [],
   "source": [
    "num_coords = len(results.face_landmarks.landmark)\n",
    "landmarks = ['class']\n",
    "for val in range(1, num_coords+1):\n",
    "    landmarks += ['x{}'.format(val), 'y{}'.format(val), 'z{}'.format(val), 'v{}'.format(val)]"
   ]
  },
  {
   "cell_type": "code",
   "execution_count": 14,
   "id": "9fd5a033",
   "metadata": {},
   "outputs": [],
   "source": [
    "with open('Face_keypoints.csv', mode='w', newline='') as f:\n",
    "    csv_writer = csv.writer(f, delimiter=',', quotechar='\"', quoting=csv.QUOTE_MINIMAL)\n",
    "    csv_writer.writerow(landmarks)"
   ]
  },
  {
   "cell_type": "code",
   "execution_count": 32,
   "id": "b5861476",
   "metadata": {},
   "outputs": [],
   "source": [
    "class_name = 'Happy' #Happy #Sad #Angry #Surprise"
   ]
  },
  {
   "cell_type": "code",
   "execution_count": 33,
   "id": "508df8bb",
   "metadata": {},
   "outputs": [],
   "source": [
    "cap = cv2.VideoCapture(1)\n",
    "with mp_holistic.Holistic(min_detection_confidence=0.5, min_tracking_confidence=0.5) as holistic:\n",
    "    \n",
    "    while cap.isOpened():\n",
    "        ret, frame = cap.read()\n",
    "        \n",
    "        image = cv2.cvtColor(frame, cv2.COLOR_BGR2RGB)\n",
    "        image.flags.writeable = False        \n",
    "        \n",
    "        results = holistic.process(image)\n",
    "        \n",
    "        image.flags.writeable = True   \n",
    "        image = cv2.cvtColor(image, cv2.COLOR_RGB2BGR)\n",
    "        \n",
    "        mp_drawing.draw_landmarks(image, results.face_landmarks, mp_holistic.FACEMESH_TESSELATION, \n",
    "                                 mp_drawing.DrawingSpec(color=(80,110,10), thickness=1, circle_radius=1),\n",
    "                                 mp_drawing.DrawingSpec(color=(80,256,121), thickness=1, circle_radius=1))\n",
    "\n",
    "        try:\n",
    "            \n",
    "            face = results.face_landmarks.landmark\n",
    "            face_row = list(np.array([[landmark.x, landmark.y, landmark.z, landmark.visibility] for landmark in face]).flatten())\n",
    "            \n",
    "            row = face_row \n",
    "            row.insert(0, class_name)\n",
    "            \n",
    "            with open('Face_keypoints.csv', mode='a', newline='') as f:\n",
    "                csv_writer = csv.writer(f, delimiter=',', quotechar='\"', quoting=csv.QUOTE_MINIMAL)\n",
    "                csv_writer.writerow(row) \n",
    "            \n",
    "        except:\n",
    "            pass\n",
    "                        \n",
    "        cv2.imshow('Raw Webcam Feed', image)\n",
    "\n",
    "        if cv2.waitKey(10) & 0xFF == ord('q'):\n",
    "            break\n",
    "\n",
    "cap.release()\n",
    "cv2.destroyAllWindows()"
   ]
  },
  {
   "cell_type": "code",
   "execution_count": 34,
   "id": "790d0699",
   "metadata": {},
   "outputs": [],
   "source": [
    "import pandas as pd\n",
    "import seaborn as sns\n",
    "\n",
    "import warnings\n",
    "warnings.filterwarnings('ignore')"
   ]
  },
  {
   "cell_type": "code",
   "execution_count": 35,
   "id": "caec7b6c",
   "metadata": {},
   "outputs": [
    {
     "data": {
      "text/html": [
       "<div>\n",
       "<style scoped>\n",
       "    .dataframe tbody tr th:only-of-type {\n",
       "        vertical-align: middle;\n",
       "    }\n",
       "\n",
       "    .dataframe tbody tr th {\n",
       "        vertical-align: top;\n",
       "    }\n",
       "\n",
       "    .dataframe thead th {\n",
       "        text-align: right;\n",
       "    }\n",
       "</style>\n",
       "<table border=\"1\" class=\"dataframe\">\n",
       "  <thead>\n",
       "    <tr style=\"text-align: right;\">\n",
       "      <th></th>\n",
       "      <th>class</th>\n",
       "      <th>x1</th>\n",
       "      <th>y1</th>\n",
       "      <th>z1</th>\n",
       "      <th>v1</th>\n",
       "      <th>x2</th>\n",
       "      <th>y2</th>\n",
       "      <th>z2</th>\n",
       "      <th>v2</th>\n",
       "      <th>x3</th>\n",
       "      <th>...</th>\n",
       "      <th>z466</th>\n",
       "      <th>v466</th>\n",
       "      <th>x467</th>\n",
       "      <th>y467</th>\n",
       "      <th>z467</th>\n",
       "      <th>v467</th>\n",
       "      <th>x468</th>\n",
       "      <th>y468</th>\n",
       "      <th>z468</th>\n",
       "      <th>v468</th>\n",
       "    </tr>\n",
       "  </thead>\n",
       "  <tbody>\n",
       "    <tr>\n",
       "      <th>0</th>\n",
       "      <td>Surprise</td>\n",
       "      <td>0.524072</td>\n",
       "      <td>0.549330</td>\n",
       "      <td>-0.042529</td>\n",
       "      <td>0.0</td>\n",
       "      <td>0.523366</td>\n",
       "      <td>0.485028</td>\n",
       "      <td>-0.064932</td>\n",
       "      <td>0.0</td>\n",
       "      <td>0.522649</td>\n",
       "      <td>...</td>\n",
       "      <td>-0.000613</td>\n",
       "      <td>0.0</td>\n",
       "      <td>0.609566</td>\n",
       "      <td>0.396959</td>\n",
       "      <td>0.026292</td>\n",
       "      <td>0.0</td>\n",
       "      <td>0.617043</td>\n",
       "      <td>0.386512</td>\n",
       "      <td>0.027607</td>\n",
       "      <td>0.0</td>\n",
       "    </tr>\n",
       "    <tr>\n",
       "      <th>1</th>\n",
       "      <td>Surprise</td>\n",
       "      <td>0.528796</td>\n",
       "      <td>0.547702</td>\n",
       "      <td>-0.041729</td>\n",
       "      <td>0.0</td>\n",
       "      <td>0.530803</td>\n",
       "      <td>0.486096</td>\n",
       "      <td>-0.061814</td>\n",
       "      <td>0.0</td>\n",
       "      <td>0.528777</td>\n",
       "      <td>...</td>\n",
       "      <td>0.002040</td>\n",
       "      <td>0.0</td>\n",
       "      <td>0.604993</td>\n",
       "      <td>0.404239</td>\n",
       "      <td>0.028051</td>\n",
       "      <td>0.0</td>\n",
       "      <td>0.611865</td>\n",
       "      <td>0.395554</td>\n",
       "      <td>0.029382</td>\n",
       "      <td>0.0</td>\n",
       "    </tr>\n",
       "    <tr>\n",
       "      <th>2</th>\n",
       "      <td>Surprise</td>\n",
       "      <td>0.550601</td>\n",
       "      <td>0.538511</td>\n",
       "      <td>-0.041617</td>\n",
       "      <td>0.0</td>\n",
       "      <td>0.553931</td>\n",
       "      <td>0.478066</td>\n",
       "      <td>-0.061676</td>\n",
       "      <td>0.0</td>\n",
       "      <td>0.550615</td>\n",
       "      <td>...</td>\n",
       "      <td>0.001907</td>\n",
       "      <td>0.0</td>\n",
       "      <td>0.623556</td>\n",
       "      <td>0.400310</td>\n",
       "      <td>0.030076</td>\n",
       "      <td>0.0</td>\n",
       "      <td>0.629978</td>\n",
       "      <td>0.392724</td>\n",
       "      <td>0.031367</td>\n",
       "      <td>0.0</td>\n",
       "    </tr>\n",
       "    <tr>\n",
       "      <th>3</th>\n",
       "      <td>Surprise</td>\n",
       "      <td>0.562175</td>\n",
       "      <td>0.549718</td>\n",
       "      <td>-0.044130</td>\n",
       "      <td>0.0</td>\n",
       "      <td>0.568406</td>\n",
       "      <td>0.486052</td>\n",
       "      <td>-0.060482</td>\n",
       "      <td>0.0</td>\n",
       "      <td>0.562831</td>\n",
       "      <td>...</td>\n",
       "      <td>0.007010</td>\n",
       "      <td>0.0</td>\n",
       "      <td>0.630855</td>\n",
       "      <td>0.416757</td>\n",
       "      <td>0.039293</td>\n",
       "      <td>0.0</td>\n",
       "      <td>0.636770</td>\n",
       "      <td>0.408905</td>\n",
       "      <td>0.041209</td>\n",
       "      <td>0.0</td>\n",
       "    </tr>\n",
       "    <tr>\n",
       "      <th>4</th>\n",
       "      <td>Surprise</td>\n",
       "      <td>0.583775</td>\n",
       "      <td>0.551414</td>\n",
       "      <td>-0.041062</td>\n",
       "      <td>0.0</td>\n",
       "      <td>0.590257</td>\n",
       "      <td>0.489065</td>\n",
       "      <td>-0.058286</td>\n",
       "      <td>0.0</td>\n",
       "      <td>0.582801</td>\n",
       "      <td>...</td>\n",
       "      <td>0.008185</td>\n",
       "      <td>0.0</td>\n",
       "      <td>0.639132</td>\n",
       "      <td>0.414603</td>\n",
       "      <td>0.047492</td>\n",
       "      <td>0.0</td>\n",
       "      <td>0.644114</td>\n",
       "      <td>0.407629</td>\n",
       "      <td>0.049897</td>\n",
       "      <td>0.0</td>\n",
       "    </tr>\n",
       "  </tbody>\n",
       "</table>\n",
       "<p>5 rows × 1873 columns</p>\n",
       "</div>"
      ],
      "text/plain": [
       "      class        x1        y1        z1   v1        x2        y2        z2  \\\n",
       "0  Surprise  0.524072  0.549330 -0.042529  0.0  0.523366  0.485028 -0.064932   \n",
       "1  Surprise  0.528796  0.547702 -0.041729  0.0  0.530803  0.486096 -0.061814   \n",
       "2  Surprise  0.550601  0.538511 -0.041617  0.0  0.553931  0.478066 -0.061676   \n",
       "3  Surprise  0.562175  0.549718 -0.044130  0.0  0.568406  0.486052 -0.060482   \n",
       "4  Surprise  0.583775  0.551414 -0.041062  0.0  0.590257  0.489065 -0.058286   \n",
       "\n",
       "    v2        x3  ...      z466  v466      x467      y467      z467  v467  \\\n",
       "0  0.0  0.522649  ... -0.000613   0.0  0.609566  0.396959  0.026292   0.0   \n",
       "1  0.0  0.528777  ...  0.002040   0.0  0.604993  0.404239  0.028051   0.0   \n",
       "2  0.0  0.550615  ...  0.001907   0.0  0.623556  0.400310  0.030076   0.0   \n",
       "3  0.0  0.562831  ...  0.007010   0.0  0.630855  0.416757  0.039293   0.0   \n",
       "4  0.0  0.582801  ...  0.008185   0.0  0.639132  0.414603  0.047492   0.0   \n",
       "\n",
       "       x468      y468      z468  v468  \n",
       "0  0.617043  0.386512  0.027607   0.0  \n",
       "1  0.611865  0.395554  0.029382   0.0  \n",
       "2  0.629978  0.392724  0.031367   0.0  \n",
       "3  0.636770  0.408905  0.041209   0.0  \n",
       "4  0.644114  0.407629  0.049897   0.0  \n",
       "\n",
       "[5 rows x 1873 columns]"
      ]
     },
     "execution_count": 35,
     "metadata": {},
     "output_type": "execute_result"
    }
   ],
   "source": [
    "df = pd.read_csv('Face_keypoints.csv')\n",
    "df.head()"
   ]
  },
  {
   "cell_type": "code",
   "execution_count": 36,
   "id": "9d2fdea1",
   "metadata": {},
   "outputs": [
    {
     "data": {
      "text/plain": [
       "Angry       122\n",
       "Sad         109\n",
       "Happy       106\n",
       "Surprise     92\n",
       "Name: class, dtype: int64"
      ]
     },
     "execution_count": 36,
     "metadata": {},
     "output_type": "execute_result"
    }
   ],
   "source": [
    "df[\"class\"].value_counts()"
   ]
  },
  {
   "cell_type": "code",
   "execution_count": 37,
   "id": "0dc3231c",
   "metadata": {},
   "outputs": [
    {
     "data": {
      "text/plain": [
       "<AxesSubplot:ylabel='class'>"
      ]
     },
     "execution_count": 37,
     "metadata": {},
     "output_type": "execute_result"
    },
    {
     "data": {
      "image/png": "[encoded data removed]",
      "text/plain": [
       "<Figure size 432x288 with 1 Axes>"
      ]
     },
     "metadata": {
      "needs_background": "light"
     },
     "output_type": "display_data"
    }
   ],
   "source": [
    "sns.barplot(df[\"class\"].value_counts().index, df[\"class\"].value_counts())"
   ]
  },
  {
   "cell_type": "code",
   "execution_count": null,
   "id": "79587a28",
   "metadata": {},
   "outputs": [],
   "source": []
  }
 ],
 "metadata": {
  "kernelspec": {
   "display_name": "Python 3",
   "language": "python",
   "name": "python3"
  },
  "language_info": {
   "codemirror_mode": {
    "name": "ipython",
    "version": 3
   },
   "file_extension": ".py",
   "mimetype": "text/x-python",
   "name": "python",
   "nbconvert_exporter": "python",
   "pygments_lexer": "ipython3",
   "version": "3.8.8"
  }
 },
 "nbformat": 4,
 "nbformat_minor": 5
}
