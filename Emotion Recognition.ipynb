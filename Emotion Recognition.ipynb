{
 "cells": [
  {
   "cell_type": "code",
   "execution_count": 1,
   "id": "2c3590e9",
   "metadata": {},
   "outputs": [],
   "source": [
    "import cv2\n",
    "import pickle\n",
    "import pandas as pd\n",
    "import numpy as np\n",
    "import mediapipe as mp\n",
    "\n",
    "from sklearn.model_selection import train_test_split\n",
    "from sklearn.preprocessing import StandardScaler\n",
    "from sklearn.ensemble import RandomForestClassifier\n",
    "from sklearn.metrics import accuracy_score"
   ]
  },
  {
   "cell_type": "code",
   "execution_count": 2,
   "id": "1a03b279",
   "metadata": {},
   "outputs": [
    {
     "data": {
      "text/html": [
       "<div>\n",
       "<style scoped>\n",
       "    .dataframe tbody tr th:only-of-type {\n",
       "        vertical-align: middle;\n",
       "    }\n",
       "\n",
       "    .dataframe tbody tr th {\n",
       "        vertical-align: top;\n",
       "    }\n",
       "\n",
       "    .dataframe thead th {\n",
       "        text-align: right;\n",
       "    }\n",
       "</style>\n",
       "<table border=\"1\" class=\"dataframe\">\n",
       "  <thead>\n",
       "    <tr style=\"text-align: right;\">\n",
       "      <th></th>\n",
       "      <th>class</th>\n",
       "      <th>x1</th>\n",
       "      <th>y1</th>\n",
       "      <th>z1</th>\n",
       "      <th>v1</th>\n",
       "      <th>x2</th>\n",
       "      <th>y2</th>\n",
       "      <th>z2</th>\n",
       "      <th>v2</th>\n",
       "      <th>x3</th>\n",
       "      <th>...</th>\n",
       "      <th>z466</th>\n",
       "      <th>v466</th>\n",
       "      <th>x467</th>\n",
       "      <th>y467</th>\n",
       "      <th>z467</th>\n",
       "      <th>v467</th>\n",
       "      <th>x468</th>\n",
       "      <th>y468</th>\n",
       "      <th>z468</th>\n",
       "      <th>v468</th>\n",
       "    </tr>\n",
       "  </thead>\n",
       "  <tbody>\n",
       "    <tr>\n",
       "      <th>0</th>\n",
       "      <td>Surprise</td>\n",
       "      <td>0.524072</td>\n",
       "      <td>0.549330</td>\n",
       "      <td>-0.042529</td>\n",
       "      <td>0.0</td>\n",
       "      <td>0.523366</td>\n",
       "      <td>0.485028</td>\n",
       "      <td>-0.064932</td>\n",
       "      <td>0.0</td>\n",
       "      <td>0.522649</td>\n",
       "      <td>...</td>\n",
       "      <td>-0.000613</td>\n",
       "      <td>0.0</td>\n",
       "      <td>0.609566</td>\n",
       "      <td>0.396959</td>\n",
       "      <td>0.026292</td>\n",
       "      <td>0.0</td>\n",
       "      <td>0.617043</td>\n",
       "      <td>0.386512</td>\n",
       "      <td>0.027607</td>\n",
       "      <td>0.0</td>\n",
       "    </tr>\n",
       "    <tr>\n",
       "      <th>1</th>\n",
       "      <td>Surprise</td>\n",
       "      <td>0.528796</td>\n",
       "      <td>0.547702</td>\n",
       "      <td>-0.041729</td>\n",
       "      <td>0.0</td>\n",
       "      <td>0.530803</td>\n",
       "      <td>0.486096</td>\n",
       "      <td>-0.061814</td>\n",
       "      <td>0.0</td>\n",
       "      <td>0.528777</td>\n",
       "      <td>...</td>\n",
       "      <td>0.002040</td>\n",
       "      <td>0.0</td>\n",
       "      <td>0.604993</td>\n",
       "      <td>0.404239</td>\n",
       "      <td>0.028051</td>\n",
       "      <td>0.0</td>\n",
       "      <td>0.611865</td>\n",
       "      <td>0.395554</td>\n",
       "      <td>0.029382</td>\n",
       "      <td>0.0</td>\n",
       "    </tr>\n",
       "    <tr>\n",
       "      <th>2</th>\n",
       "      <td>Surprise</td>\n",
       "      <td>0.550601</td>\n",
       "      <td>0.538511</td>\n",
       "      <td>-0.041617</td>\n",
       "      <td>0.0</td>\n",
       "      <td>0.553931</td>\n",
       "      <td>0.478066</td>\n",
       "      <td>-0.061676</td>\n",
       "      <td>0.0</td>\n",
       "      <td>0.550615</td>\n",
       "      <td>...</td>\n",
       "      <td>0.001907</td>\n",
       "      <td>0.0</td>\n",
       "      <td>0.623556</td>\n",
       "      <td>0.400310</td>\n",
       "      <td>0.030076</td>\n",
       "      <td>0.0</td>\n",
       "      <td>0.629978</td>\n",
       "      <td>0.392724</td>\n",
       "      <td>0.031367</td>\n",
       "      <td>0.0</td>\n",
       "    </tr>\n",
       "    <tr>\n",
       "      <th>3</th>\n",
       "      <td>Surprise</td>\n",
       "      <td>0.562175</td>\n",
       "      <td>0.549718</td>\n",
       "      <td>-0.044130</td>\n",
       "      <td>0.0</td>\n",
       "      <td>0.568406</td>\n",
       "      <td>0.486052</td>\n",
       "      <td>-0.060482</td>\n",
       "      <td>0.0</td>\n",
       "      <td>0.562831</td>\n",
       "      <td>...</td>\n",
       "      <td>0.007010</td>\n",
       "      <td>0.0</td>\n",
       "      <td>0.630855</td>\n",
       "      <td>0.416757</td>\n",
       "      <td>0.039293</td>\n",
       "      <td>0.0</td>\n",
       "      <td>0.636770</td>\n",
       "      <td>0.408905</td>\n",
       "      <td>0.041209</td>\n",
       "      <td>0.0</td>\n",
       "    </tr>\n",
       "    <tr>\n",
       "      <th>4</th>\n",
       "      <td>Surprise</td>\n",
       "      <td>0.583775</td>\n",
       "      <td>0.551414</td>\n",
       "      <td>-0.041062</td>\n",
       "      <td>0.0</td>\n",
       "      <td>0.590257</td>\n",
       "      <td>0.489065</td>\n",
       "      <td>-0.058286</td>\n",
       "      <td>0.0</td>\n",
       "      <td>0.582801</td>\n",
       "      <td>...</td>\n",
       "      <td>0.008185</td>\n",
       "      <td>0.0</td>\n",
       "      <td>0.639132</td>\n",
       "      <td>0.414603</td>\n",
       "      <td>0.047492</td>\n",
       "      <td>0.0</td>\n",
       "      <td>0.644114</td>\n",
       "      <td>0.407629</td>\n",
       "      <td>0.049897</td>\n",
       "      <td>0.0</td>\n",
       "    </tr>\n",
       "  </tbody>\n",
       "</table>\n",
       "<p>5 rows × 1873 columns</p>\n",
       "</div>"
      ],
      "text/plain": [
       "      class        x1        y1        z1   v1        x2        y2        z2  \\\n",
       "0  Surprise  0.524072  0.549330 -0.042529  0.0  0.523366  0.485028 -0.064932   \n",
       "1  Surprise  0.528796  0.547702 -0.041729  0.0  0.530803  0.486096 -0.061814   \n",
       "2  Surprise  0.550601  0.538511 -0.041617  0.0  0.553931  0.478066 -0.061676   \n",
       "3  Surprise  0.562175  0.549718 -0.044130  0.0  0.568406  0.486052 -0.060482   \n",
       "4  Surprise  0.583775  0.551414 -0.041062  0.0  0.590257  0.489065 -0.058286   \n",
       "\n",
       "    v2        x3  ...      z466  v466      x467      y467      z467  v467  \\\n",
       "0  0.0  0.522649  ... -0.000613   0.0  0.609566  0.396959  0.026292   0.0   \n",
       "1  0.0  0.528777  ...  0.002040   0.0  0.604993  0.404239  0.028051   0.0   \n",
       "2  0.0  0.550615  ...  0.001907   0.0  0.623556  0.400310  0.030076   0.0   \n",
       "3  0.0  0.562831  ...  0.007010   0.0  0.630855  0.416757  0.039293   0.0   \n",
       "4  0.0  0.582801  ...  0.008185   0.0  0.639132  0.414603  0.047492   0.0   \n",
       "\n",
       "       x468      y468      z468  v468  \n",
       "0  0.617043  0.386512  0.027607   0.0  \n",
       "1  0.611865  0.395554  0.029382   0.0  \n",
       "2  0.629978  0.392724  0.031367   0.0  \n",
       "3  0.636770  0.408905  0.041209   0.0  \n",
       "4  0.644114  0.407629  0.049897   0.0  \n",
       "\n",
       "[5 rows x 1873 columns]"
      ]
     },
     "execution_count": 2,
     "metadata": {},
     "output_type": "execute_result"
    }
   ],
   "source": [
    "df = pd.read_csv('Face_keypoints.csv')\n",
    "df.head()"
   ]
  },
  {
   "cell_type": "code",
   "execution_count": 3,
   "id": "08b503d5",
   "metadata": {},
   "outputs": [],
   "source": [
    "X = df.drop('class', axis=1)\n",
    "y = df['class']"
   ]
  },
  {
   "cell_type": "code",
   "execution_count": 4,
   "id": "82f86207",
   "metadata": {},
   "outputs": [],
   "source": [
    "X_train, X_test, y_train, y_test = train_test_split(X, y, test_size=0.2, random_state=42)"
   ]
  },
  {
   "cell_type": "code",
   "execution_count": 5,
   "id": "10b28f74",
   "metadata": {},
   "outputs": [
    {
     "name": "stdout",
     "output_type": "stream",
     "text": [
      "Train shape:\n",
      "(343, 1872)\n",
      "(86, 1872)\n",
      "\n",
      "Test Shape:\n",
      "(343,)\n",
      "(86,)\n"
     ]
    }
   ],
   "source": [
    "print('Train shape:')\n",
    "print(X_train.shape)\n",
    "print(X_test.shape)\n",
    "print('\\nTest Shape:')\n",
    "print(y_train.shape)\n",
    "print(y_test.shape)"
   ]
  },
  {
   "cell_type": "code",
   "execution_count": 6,
   "id": "03b9d3fd",
   "metadata": {},
   "outputs": [],
   "source": [
    "# X_train = StandardScaler().fit_transform(X_train)\n",
    "# X_test = StandardScaler().fit_transform(X_test)"
   ]
  },
  {
   "cell_type": "code",
   "execution_count": 7,
   "id": "82d80667",
   "metadata": {},
   "outputs": [],
   "source": [
    "rc = RandomForestClassifier()"
   ]
  },
  {
   "cell_type": "code",
   "execution_count": 8,
   "id": "8c63903a",
   "metadata": {},
   "outputs": [],
   "source": [
    "model = rc.fit(X_train, y_train)"
   ]
  },
  {
   "cell_type": "code",
   "execution_count": 9,
   "id": "6d6b2043",
   "metadata": {},
   "outputs": [
    {
     "data": {
      "text/plain": [
       "array(['Happy', 'Surprise', 'Angry', 'Surprise', 'Happy', 'Sad', 'Angry',\n",
       "       'Angry', 'Happy', 'Angry', 'Happy', 'Surprise', 'Angry', 'Happy',\n",
       "       'Surprise', 'Angry', 'Happy', 'Surprise', 'Surprise', 'Angry',\n",
       "       'Sad', 'Sad', 'Happy', 'Surprise', 'Surprise', 'Angry', 'Angry',\n",
       "       'Happy', 'Sad', 'Happy', 'Angry', 'Happy', 'Sad', 'Angry', 'Happy',\n",
       "       'Surprise', 'Angry', 'Happy', 'Happy', 'Happy', 'Sad', 'Angry',\n",
       "       'Surprise', 'Surprise', 'Surprise', 'Angry', 'Sad', 'Surprise',\n",
       "       'Happy', 'Happy', 'Surprise', 'Sad', 'Angry', 'Surprise',\n",
       "       'Surprise', 'Sad', 'Sad', 'Surprise', 'Angry', 'Surprise', 'Angry',\n",
       "       'Sad', 'Surprise', 'Surprise', 'Happy', 'Surprise', 'Happy',\n",
       "       'Angry', 'Angry', 'Surprise', 'Angry', 'Happy', 'Angry', 'Happy',\n",
       "       'Happy', 'Happy', 'Surprise', 'Surprise', 'Happy', 'Angry',\n",
       "       'Angry', 'Happy', 'Surprise', 'Angry', 'Surprise', 'Surprise'],\n",
       "      dtype=object)"
      ]
     },
     "execution_count": 9,
     "metadata": {},
     "output_type": "execute_result"
    }
   ],
   "source": [
    "y_pred = model.predict(X_test)\n",
    "y_pred"
   ]
  },
  {
   "cell_type": "code",
   "execution_count": 23,
   "id": "a5371724",
   "metadata": {},
   "outputs": [
    {
     "name": "stdout",
     "output_type": "stream",
     "text": [
      "0.9418604651162791\n"
     ]
    }
   ],
   "source": [
    "print(accuracy_score(y_test, y_pred))"
   ]
  },
  {
   "cell_type": "code",
   "execution_count": 11,
   "id": "2fc76894",
   "metadata": {},
   "outputs": [],
   "source": [
    "with open('saved_model.pkl', 'wb') as f:\n",
    "    pickle.dump(model, f)"
   ]
  },
  {
   "cell_type": "code",
   "execution_count": 12,
   "id": "d2f9998e",
   "metadata": {},
   "outputs": [],
   "source": [
    "with open('saved_model.pkl', 'rb') as f:\n",
    "    model = pickle.load(f)"
   ]
  },
  {
   "cell_type": "code",
   "execution_count": 13,
   "id": "962242f4",
   "metadata": {},
   "outputs": [
    {
     "data": {
      "text/plain": [
       "RandomForestClassifier()"
      ]
     },
     "execution_count": 13,
     "metadata": {},
     "output_type": "execute_result"
    }
   ],
   "source": [
    "model"
   ]
  },
  {
   "cell_type": "code",
   "execution_count": 15,
   "id": "a934d7f9",
   "metadata": {},
   "outputs": [],
   "source": [
    "mp_drawing = mp.solutions.drawing_utils\n",
    "mp_holistic = mp.solutions.holistic"
   ]
  },
  {
   "cell_type": "code",
   "execution_count": 22,
   "id": "1a8094be",
   "metadata": {},
   "outputs": [],
   "source": [
    "cap = cv2.VideoCapture(1)\n",
    "with mp_holistic.Holistic(min_detection_confidence=0.5, min_tracking_confidence=0.5) as holistic:\n",
    "    \n",
    "    while cap.isOpened():\n",
    "        ret, frame = cap.read()\n",
    "        \n",
    "        image = cv2.cvtColor(frame, cv2.COLOR_BGR2RGB)\n",
    "        image.flags.writeable = False        \n",
    "\n",
    "        results = holistic.process(image)\n",
    "\n",
    "        image.flags.writeable = True   \n",
    "        image = cv2.cvtColor(image, cv2.COLOR_RGB2BGR)\n",
    "        \n",
    "#         mp_drawing.draw_landmarks(image, results.face_landmarks, mp_holistic.FACEMESH_TESSELATION, \n",
    "#                                  mp_drawing.DrawingSpec(color=(80,110,10), thickness=1, circle_radius=1),\n",
    "#                                  mp_drawing.DrawingSpec(color=(80,256,121), thickness=1, circle_radius=1))\n",
    "\n",
    "        try:\n",
    "            \n",
    "            face = results.face_landmarks.landmark\n",
    "            face_row = list(np.array([[landmark.x, landmark.y, landmark.z, landmark.visibility] for landmark in face]).flatten())\n",
    "\n",
    "            row = face_row\n",
    "            \n",
    "            X = pd.DataFrame([row])\n",
    "            body_language_class = model.predict(X)[0]\n",
    "            body_language_prob = model.predict_proba(X)[0]\n",
    "            \n",
    "            coords = tuple(np.multiply(np.array((results.pose_landmarks.landmark[mp_holistic.PoseLandmark.LEFT_EAR].x, \n",
    "                                                 results.pose_landmarks.landmark[mp_holistic.PoseLandmark.LEFT_EAR].y)), \n",
    "                                                 [640,480]).astype(int))\n",
    "            \n",
    "#             cv2.rectangle(image, (coords[0], coords[1]+5), \n",
    "#                           (coords[0]+len(body_language_class)*20, coords[1]-30), (245, 117, 16), -1)\n",
    "#             cv2.putText(image, body_language_class, coords, \n",
    "#                         cv2.FONT_HERSHEY_SIMPLEX, 1, (255, 255, 255), 2, cv2.LINE_AA)\n",
    "            cv2.rectangle(image, (0,0), (250, 60), (245, 117, 16), -1)\n",
    "            cv2.putText(image, 'CLASS', (95,12), \n",
    "                        cv2.FONT_HERSHEY_SIMPLEX, 0.5, (0, 0, 0), 1, cv2.LINE_AA)\n",
    "            cv2.putText(image, body_language_class.split(' ')[0], (90,40), \n",
    "                        cv2.FONT_HERSHEY_SIMPLEX, 1, (255, 255, 255), 2, cv2.LINE_AA)\n",
    "            cv2.putText(image, 'PROB', (15,12), \n",
    "                        cv2.FONT_HERSHEY_SIMPLEX, 0.5, (0, 0, 0), 1, cv2.LINE_AA)\n",
    "            cv2.putText(image, str(round(body_language_prob[np.argmax(body_language_prob)],2)), (10,40), \n",
    "                        cv2.FONT_HERSHEY_SIMPLEX, 1, (255, 255, 255), 2, cv2.LINE_AA)\n",
    "            \n",
    "        except:\n",
    "            pass\n",
    "                        \n",
    "        cv2.imshow('Raw Webcam Feed', image)\n",
    "\n",
    "        if cv2.waitKey(10) & 0xFF == ord('q'):\n",
    "            break\n",
    "\n",
    "cap.release()\n",
    "cv2.destroyAllWindows()"
   ]
  },
  {
   "cell_type": "code",
   "execution_count": null,
   "id": "95b40f03",
   "metadata": {},
   "outputs": [],
   "source": []
  }
 ],
 "metadata": {
  "kernelspec": {
   "display_name": "Python 3",
   "language": "python",
   "name": "python3"
  },
  "language_info": {
   "codemirror_mode": {
    "name": "ipython",
    "version": 3
   },
   "file_extension": ".py",
   "mimetype": "text/x-python",
   "name": "python",
   "nbconvert_exporter": "python",
   "pygments_lexer": "ipython3",
   "version": "3.8.8"
  }
 },
 "nbformat": 4,
 "nbformat_minor": 5
}
